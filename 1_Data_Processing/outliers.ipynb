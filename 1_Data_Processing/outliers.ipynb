{
 "cells": [
  {
   "cell_type": "code",
   "execution_count": 2,
   "metadata": {},
   "outputs": [],
   "source": [
    "# %load my_init\n",
    "import numpy as np\n",
    "import pandas as pd\n",
    "import matplotlib.pyplot as plt\n",
    "import scipy as sp\n",
    "from scipy import stats\n",
    "import statsmodels as sm\n",
    "import seaborn as sns\n",
    "import sklearn as sk\n",
    "\n",
    "# import warnings\n",
    "# warnings.filterwarnings('ignore')\n",
    "\n",
    "%matplotlib inline"
   ]
  },
  {
   "cell_type": "markdown",
   "metadata": {},
   "source": [
    "First off, draw Box plots to roughly detect outliers (EDA)\n",
    "\n",
    "#### When to adjust outliers\n",
    "- When data points seem to be abnormal by nature (need domain knowledge to determine anomaly)  \n",
    "ex) lemon or not lemon odometers == 0\n",
    "\n",
    "\n",
    "#### When NOT to adjust outliers\n",
    "- Even when there is an extreme outlier, if it can exist by nature of the data, it should remain as it is  \n",
    "ex) health diagnosis\n"
   ]
  }
 ],
 "metadata": {
  "kernelspec": {
   "display_name": "MLDL",
   "language": "python",
   "name": "mdlearning"
  },
  "language_info": {
   "codemirror_mode": {
    "name": "ipython",
    "version": 3
   },
   "file_extension": ".py",
   "mimetype": "text/x-python",
   "name": "python",
   "nbconvert_exporter": "python",
   "pygments_lexer": "ipython3",
   "version": "3.8.16"
  },
  "orig_nbformat": 4
 },
 "nbformat": 4,
 "nbformat_minor": 2
}
