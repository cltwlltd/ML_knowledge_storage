{
 "cells": [
  {
   "cell_type": "markdown",
   "metadata": {},
   "source": [
    "# <u>Scaling Data</u>\n",
    "\n",
    "- Why, How and When to Scale your Features\n",
    "- Reference: https://medium.com/greyatom/why-how-and-when-to-scale-your-features-4b30ab09db5e"
   ]
  },
  {
   "cell_type": "markdown",
   "metadata": {},
   "source": [
    "## #1. Why bother to scale?"
   ]
  },
  {
   "cell_type": "markdown",
   "metadata": {},
   "source": [
    "Most of the times, your dataset will contain features highly varying in magnitudes, units and range. But since, most of the machine learning algorithms use Eucledian distance between two data points in their computations, this is a problem."
   ]
  },
  {
   "cell_type": "markdown",
   "metadata": {},
   "source": [
    "## #2. How to scale data\n",
    "There are four common methods to perform Feature Scaling"
   ]
  },
  {
   "cell_type": "markdown",
   "metadata": {},
   "source": [
    "#### 1. Standardization \n",
    "- $ x' = \\frac{x - \\bar{x}}{σ}  $ \n",
    "- mean $μ = 0$ and standard deviation $σ =1$  "
   ]
  },
  {
   "cell_type": "markdown",
   "metadata": {},
   "source": [
    "#### 2. Mean Normalization  \n",
    "- $ x' = \\frac{x -  mean(x)}{max(x)-min(x)}  $\n",
    "- $-1 \\le x \\le 1$ with $μ=0$  "
   ]
  },
  {
   "cell_type": "markdown",
   "metadata": {},
   "source": [
    "#### 3. Min-Max Scaling  \n",
    "- $ x' = \\frac{x -  min(x)}{max(x)-min(x)}  $\n",
    "- $0 \\le x \\le 1$  \n"
   ]
  },
  {
   "cell_type": "markdown",
   "metadata": {},
   "source": [
    "#### 4. Unit Vector  \n",
    "- $ x' = \\frac{x}{||x||}  $\n",
    "- $-1 \\le x \\le 1$ "
   ]
  },
  {
   "cell_type": "markdown",
   "metadata": {},
   "source": [
    "## #3. When to scale"
   ]
  },
  {
   "cell_type": "markdown",
   "metadata": {},
   "source": [
    "Generally recommended for algorithm that computes distance or assumes normality.  \n",
    "Some examples of algorithms where feature scaling matters are:  \n",
    "- k-nearest neighbors\n",
    "- PCA\n",
    "- Gradient descent\n",
    "- Tree based models\n",
    "- Naive Bayes"
   ]
  }
 ],
 "metadata": {
  "language_info": {
   "name": "python"
  },
  "orig_nbformat": 4
 },
 "nbformat": 4,
 "nbformat_minor": 2
}
